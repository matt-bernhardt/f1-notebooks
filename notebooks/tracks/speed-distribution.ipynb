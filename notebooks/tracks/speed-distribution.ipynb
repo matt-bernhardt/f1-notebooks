{
 "cells": [
  {
   "cell_type": "markdown",
   "id": "34db9787",
   "metadata": {},
   "source": [
    "# Speed distribution across F1 circuits\n",
    "\n",
    "This is extrapolating from the speed distribution example notebook."
   ]
  },
  {
   "cell_type": "code",
   "execution_count": 1,
   "id": "f73ba7a2",
   "metadata": {},
   "outputs": [
    {
     "name": "stderr",
     "output_type": "stream",
     "text": [
      "req         WARNING \tDEFAULT CACHE ENABLED! (4.65 GB) /Users/mjbernha/Library/Caches/fastf1\n"
     ]
    }
   ],
   "source": [
    "# Load packages\n",
    "import matplotlib as mpl\n",
    "import numpy as np\n",
    "from matplotlib import pyplot as plt\n",
    "import pandas as pd\n",
    "import seaborn as sns\n",
    "\n",
    "import fastf1 as ff1\n",
    "\n",
    "# Define common variables\n",
    "year = 2024\n",
    "ses = 'Q'\n",
    "driver = 'VER'\n",
    "colormap = mpl.cm.plasma\n",
    "\n",
    "# Define common function\n",
    "def fastest_quali_lap(race, driver):\n",
    "  session = ff1.get_session(year, race, ses)\n",
    "  session.load()\n",
    "  lap = session.laps.pick_drivers(driver).pick_fastest()\n",
    "  \n",
    "  return lap.telemetry['Speed']\n",
    "\n",
    "# Load and convert schedule to Dataframe\n",
    "raw = ff1.get_event_schedule(year)\n",
    "\n",
    "schedule = pd.DataFrame(raw)"
   ]
  },
  {
   "cell_type": "code",
   "execution_count": 2,
   "id": "6ceeb70a",
   "metadata": {},
   "outputs": [
    {
     "data": {
      "text/html": [
       "<div>\n",
       "<style scoped>\n",
       "    .dataframe tbody tr th:only-of-type {\n",
       "        vertical-align: middle;\n",
       "    }\n",
       "\n",
       "    .dataframe tbody tr th {\n",
       "        vertical-align: top;\n",
       "    }\n",
       "\n",
       "    .dataframe thead th {\n",
       "        text-align: right;\n",
       "    }\n",
       "</style>\n",
       "<table border=\"1\" class=\"dataframe\">\n",
       "  <thead>\n",
       "    <tr style=\"text-align: right;\">\n",
       "      <th></th>\n",
       "      <th>RoundNumber</th>\n",
       "      <th>Country</th>\n",
       "      <th>Location</th>\n",
       "      <th>OfficialEventName</th>\n",
       "      <th>EventDate</th>\n",
       "      <th>EventName</th>\n",
       "      <th>EventFormat</th>\n",
       "      <th>Session1</th>\n",
       "      <th>Session1Date</th>\n",
       "      <th>Session1DateUtc</th>\n",
       "      <th>...</th>\n",
       "      <th>Session3</th>\n",
       "      <th>Session3Date</th>\n",
       "      <th>Session3DateUtc</th>\n",
       "      <th>Session4</th>\n",
       "      <th>Session4Date</th>\n",
       "      <th>Session4DateUtc</th>\n",
       "      <th>Session5</th>\n",
       "      <th>Session5Date</th>\n",
       "      <th>Session5DateUtc</th>\n",
       "      <th>F1ApiSupport</th>\n",
       "    </tr>\n",
       "  </thead>\n",
       "  <tbody>\n",
       "    <tr>\n",
       "      <th>0</th>\n",
       "      <td>0</td>\n",
       "      <td>Bahrain</td>\n",
       "      <td>Sakhir</td>\n",
       "      <td>FORMULA 1 ARAMCO PRE-SEASON TESTING 2024</td>\n",
       "      <td>2024-02-23</td>\n",
       "      <td>Pre-Season Testing</td>\n",
       "      <td>testing</td>\n",
       "      <td>Practice 1</td>\n",
       "      <td>2024-02-21 10:00:00+03:00</td>\n",
       "      <td>2024-02-21 07:00:00</td>\n",
       "      <td>...</td>\n",
       "      <td>Practice 3</td>\n",
       "      <td>2024-02-23 10:00:00+03:00</td>\n",
       "      <td>2024-02-23 07:00:00</td>\n",
       "      <td>None</td>\n",
       "      <td>NaT</td>\n",
       "      <td>NaT</td>\n",
       "      <td>None</td>\n",
       "      <td>NaT</td>\n",
       "      <td>NaT</td>\n",
       "      <td>True</td>\n",
       "    </tr>\n",
       "    <tr>\n",
       "      <th>1</th>\n",
       "      <td>1</td>\n",
       "      <td>Bahrain</td>\n",
       "      <td>Sakhir</td>\n",
       "      <td>FORMULA 1 GULF AIR BAHRAIN GRAND PRIX 2024</td>\n",
       "      <td>2024-03-02</td>\n",
       "      <td>Bahrain Grand Prix</td>\n",
       "      <td>conventional</td>\n",
       "      <td>Practice 1</td>\n",
       "      <td>2024-02-29 14:30:00+03:00</td>\n",
       "      <td>2024-02-29 11:30:00</td>\n",
       "      <td>...</td>\n",
       "      <td>Practice 3</td>\n",
       "      <td>2024-03-01 15:30:00+03:00</td>\n",
       "      <td>2024-03-01 12:30:00</td>\n",
       "      <td>Qualifying</td>\n",
       "      <td>2024-03-01 19:00:00+03:00</td>\n",
       "      <td>2024-03-01 16:00:00</td>\n",
       "      <td>Race</td>\n",
       "      <td>2024-03-02 18:00:00+03:00</td>\n",
       "      <td>2024-03-02 15:00:00</td>\n",
       "      <td>True</td>\n",
       "    </tr>\n",
       "    <tr>\n",
       "      <th>2</th>\n",
       "      <td>2</td>\n",
       "      <td>Saudi Arabia</td>\n",
       "      <td>Jeddah</td>\n",
       "      <td>FORMULA 1 STC SAUDI ARABIAN GRAND PRIX 2024</td>\n",
       "      <td>2024-03-09</td>\n",
       "      <td>Saudi Arabian Grand Prix</td>\n",
       "      <td>conventional</td>\n",
       "      <td>Practice 1</td>\n",
       "      <td>2024-03-07 16:30:00+03:00</td>\n",
       "      <td>2024-03-07 13:30:00</td>\n",
       "      <td>...</td>\n",
       "      <td>Practice 3</td>\n",
       "      <td>2024-03-08 16:30:00+03:00</td>\n",
       "      <td>2024-03-08 13:30:00</td>\n",
       "      <td>Qualifying</td>\n",
       "      <td>2024-03-08 20:00:00+03:00</td>\n",
       "      <td>2024-03-08 17:00:00</td>\n",
       "      <td>Race</td>\n",
       "      <td>2024-03-09 20:00:00+03:00</td>\n",
       "      <td>2024-03-09 17:00:00</td>\n",
       "      <td>True</td>\n",
       "    </tr>\n",
       "    <tr>\n",
       "      <th>3</th>\n",
       "      <td>3</td>\n",
       "      <td>Australia</td>\n",
       "      <td>Melbourne</td>\n",
       "      <td>FORMULA 1 ROLEX AUSTRALIAN GRAND PRIX 2024</td>\n",
       "      <td>2024-03-24</td>\n",
       "      <td>Australian Grand Prix</td>\n",
       "      <td>conventional</td>\n",
       "      <td>Practice 1</td>\n",
       "      <td>2024-03-22 12:30:00+11:00</td>\n",
       "      <td>2024-03-22 01:30:00</td>\n",
       "      <td>...</td>\n",
       "      <td>Practice 3</td>\n",
       "      <td>2024-03-23 12:30:00+11:00</td>\n",
       "      <td>2024-03-23 01:30:00</td>\n",
       "      <td>Qualifying</td>\n",
       "      <td>2024-03-23 16:00:00+11:00</td>\n",
       "      <td>2024-03-23 05:00:00</td>\n",
       "      <td>Race</td>\n",
       "      <td>2024-03-24 15:00:00+11:00</td>\n",
       "      <td>2024-03-24 04:00:00</td>\n",
       "      <td>True</td>\n",
       "    </tr>\n",
       "    <tr>\n",
       "      <th>4</th>\n",
       "      <td>4</td>\n",
       "      <td>Japan</td>\n",
       "      <td>Suzuka</td>\n",
       "      <td>FORMULA 1 MSC CRUISES JAPANESE GRAND PRIX 2024</td>\n",
       "      <td>2024-04-07</td>\n",
       "      <td>Japanese Grand Prix</td>\n",
       "      <td>conventional</td>\n",
       "      <td>Practice 1</td>\n",
       "      <td>2024-04-05 11:30:00+09:00</td>\n",
       "      <td>2024-04-05 02:30:00</td>\n",
       "      <td>...</td>\n",
       "      <td>Practice 3</td>\n",
       "      <td>2024-04-06 11:30:00+09:00</td>\n",
       "      <td>2024-04-06 02:30:00</td>\n",
       "      <td>Qualifying</td>\n",
       "      <td>2024-04-06 15:00:00+09:00</td>\n",
       "      <td>2024-04-06 06:00:00</td>\n",
       "      <td>Race</td>\n",
       "      <td>2024-04-07 14:00:00+09:00</td>\n",
       "      <td>2024-04-07 05:00:00</td>\n",
       "      <td>True</td>\n",
       "    </tr>\n",
       "  </tbody>\n",
       "</table>\n",
       "<p>5 rows × 23 columns</p>\n",
       "</div>"
      ],
      "text/plain": [
       "   RoundNumber       Country   Location  \\\n",
       "0            0       Bahrain     Sakhir   \n",
       "1            1       Bahrain     Sakhir   \n",
       "2            2  Saudi Arabia     Jeddah   \n",
       "3            3     Australia  Melbourne   \n",
       "4            4         Japan     Suzuka   \n",
       "\n",
       "                                OfficialEventName  EventDate  \\\n",
       "0        FORMULA 1 ARAMCO PRE-SEASON TESTING 2024 2024-02-23   \n",
       "1      FORMULA 1 GULF AIR BAHRAIN GRAND PRIX 2024 2024-03-02   \n",
       "2     FORMULA 1 STC SAUDI ARABIAN GRAND PRIX 2024 2024-03-09   \n",
       "3      FORMULA 1 ROLEX AUSTRALIAN GRAND PRIX 2024 2024-03-24   \n",
       "4  FORMULA 1 MSC CRUISES JAPANESE GRAND PRIX 2024 2024-04-07   \n",
       "\n",
       "                  EventName   EventFormat    Session1  \\\n",
       "0        Pre-Season Testing       testing  Practice 1   \n",
       "1        Bahrain Grand Prix  conventional  Practice 1   \n",
       "2  Saudi Arabian Grand Prix  conventional  Practice 1   \n",
       "3     Australian Grand Prix  conventional  Practice 1   \n",
       "4       Japanese Grand Prix  conventional  Practice 1   \n",
       "\n",
       "                Session1Date     Session1DateUtc  ...    Session3  \\\n",
       "0  2024-02-21 10:00:00+03:00 2024-02-21 07:00:00  ...  Practice 3   \n",
       "1  2024-02-29 14:30:00+03:00 2024-02-29 11:30:00  ...  Practice 3   \n",
       "2  2024-03-07 16:30:00+03:00 2024-03-07 13:30:00  ...  Practice 3   \n",
       "3  2024-03-22 12:30:00+11:00 2024-03-22 01:30:00  ...  Practice 3   \n",
       "4  2024-04-05 11:30:00+09:00 2024-04-05 02:30:00  ...  Practice 3   \n",
       "\n",
       "                Session3Date     Session3DateUtc    Session4  \\\n",
       "0  2024-02-23 10:00:00+03:00 2024-02-23 07:00:00        None   \n",
       "1  2024-03-01 15:30:00+03:00 2024-03-01 12:30:00  Qualifying   \n",
       "2  2024-03-08 16:30:00+03:00 2024-03-08 13:30:00  Qualifying   \n",
       "3  2024-03-23 12:30:00+11:00 2024-03-23 01:30:00  Qualifying   \n",
       "4  2024-04-06 11:30:00+09:00 2024-04-06 02:30:00  Qualifying   \n",
       "\n",
       "                Session4Date     Session4DateUtc Session5  \\\n",
       "0                        NaT                 NaT     None   \n",
       "1  2024-03-01 19:00:00+03:00 2024-03-01 16:00:00     Race   \n",
       "2  2024-03-08 20:00:00+03:00 2024-03-08 17:00:00     Race   \n",
       "3  2024-03-23 16:00:00+11:00 2024-03-23 05:00:00     Race   \n",
       "4  2024-04-06 15:00:00+09:00 2024-04-06 06:00:00     Race   \n",
       "\n",
       "                Session5Date     Session5DateUtc F1ApiSupport  \n",
       "0                        NaT                 NaT         True  \n",
       "1  2024-03-02 18:00:00+03:00 2024-03-02 15:00:00         True  \n",
       "2  2024-03-09 20:00:00+03:00 2024-03-09 17:00:00         True  \n",
       "3  2024-03-24 15:00:00+11:00 2024-03-24 04:00:00         True  \n",
       "4  2024-04-07 14:00:00+09:00 2024-04-07 05:00:00         True  \n",
       "\n",
       "[5 rows x 23 columns]"
      ]
     },
     "execution_count": 2,
     "metadata": {},
     "output_type": "execute_result"
    }
   ],
   "source": [
    "schedule.head()"
   ]
  },
  {
   "cell_type": "code",
   "execution_count": 3,
   "id": "506230d8",
   "metadata": {},
   "outputs": [
    {
     "data": {
      "text/plain": [
       "Index(['RoundNumber', 'Country', 'Location', 'OfficialEventName', 'EventDate',\n",
       "       'EventName', 'EventFormat', 'Session1', 'Session1Date',\n",
       "       'Session1DateUtc', 'Session2', 'Session2Date', 'Session2DateUtc',\n",
       "       'Session3', 'Session3Date', 'Session3DateUtc', 'Session4',\n",
       "       'Session4Date', 'Session4DateUtc', 'Session5', 'Session5Date',\n",
       "       'Session5DateUtc', 'F1ApiSupport'],\n",
       "      dtype='object')"
      ]
     },
     "execution_count": 3,
     "metadata": {},
     "output_type": "execute_result"
    }
   ],
   "source": [
    "schedule.columns"
   ]
  },
  {
   "cell_type": "code",
   "execution_count": 5,
   "id": "01715d0d",
   "metadata": {},
   "outputs": [
    {
     "name": "stderr",
     "output_type": "stream",
     "text": [
      "core           INFO \tLoading data for Bahrain Grand Prix - Qualifying [v3.5.3]\n",
      "req            INFO \tUsing cached data for session_info\n",
      "req            INFO \tUsing cached data for driver_info\n"
     ]
    },
    {
     "name": "stderr",
     "output_type": "stream",
     "text": [
      "req            INFO \tUsing cached data for session_status_data\n",
      "req            INFO \tUsing cached data for track_status_data\n",
      "req            INFO \tUsing cached data for _extended_timing_data\n",
      "req            INFO \tUsing cached data for timing_app_data\n",
      "core           INFO \tProcessing timing data...\n"
     ]
    },
    {
     "name": "stdout",
     "output_type": "stream",
     "text": [
      "1 Sakhir\n"
     ]
    },
    {
     "name": "stderr",
     "output_type": "stream",
     "text": [
      "req            INFO \tUsing cached data for car_data\n",
      "req            INFO \tUsing cached data for position_data\n",
      "req            INFO \tUsing cached data for weather_data\n",
      "req            INFO \tUsing cached data for race_control_messages\n",
      "core           INFO \tFinished loading data for 20 drivers: ['1', '16', '63', '55', '11', '14', '4', '81', '44', '27', '22', '18', '23', '3', '20', '77', '24', '2', '31', '10']\n",
      "core           INFO \tLoading data for Saudi Arabian Grand Prix - Qualifying [v3.5.3]\n",
      "req            INFO \tUsing cached data for session_info\n",
      "req            INFO \tUsing cached data for driver_info\n",
      "req            INFO \tUsing cached data for session_status_data\n",
      "req            INFO \tUsing cached data for track_status_data\n",
      "req            INFO \tUsing cached data for _extended_timing_data\n",
      "req            INFO \tUsing cached data for timing_app_data\n",
      "core           INFO \tProcessing timing data...\n"
     ]
    },
    {
     "name": "stdout",
     "output_type": "stream",
     "text": [
      "2 Jeddah\n"
     ]
    },
    {
     "name": "stderr",
     "output_type": "stream",
     "text": [
      "req            INFO \tUsing cached data for car_data\n",
      "req            INFO \tUsing cached data for position_data\n",
      "req            INFO \tUsing cached data for weather_data\n",
      "req            INFO \tUsing cached data for race_control_messages\n",
      "core           INFO \tFinished loading data for 20 drivers: ['1', '16', '11', '14', '81', '4', '63', '44', '22', '18', '38', '23', '20', '3', '27', '77', '31', '10', '2', '24']\n",
      "core           INFO \tLoading data for Australian Grand Prix - Qualifying [v3.5.3]\n",
      "req            INFO \tUsing cached data for session_info\n",
      "req            INFO \tUsing cached data for driver_info\n",
      "req            INFO \tUsing cached data for session_status_data\n",
      "req            INFO \tUsing cached data for track_status_data\n",
      "req            INFO \tUsing cached data for _extended_timing_data\n",
      "req            INFO \tUsing cached data for timing_app_data\n",
      "core           INFO \tProcessing timing data...\n"
     ]
    },
    {
     "name": "stdout",
     "output_type": "stream",
     "text": [
      "3 Melbourne\n"
     ]
    },
    {
     "name": "stderr",
     "output_type": "stream",
     "text": [
      "req            INFO \tUsing cached data for car_data\n",
      "req            INFO \tUsing cached data for position_data\n",
      "req            INFO \tUsing cached data for weather_data\n",
      "req            INFO \tUsing cached data for race_control_messages\n",
      "core           INFO \tFinished loading data for 19 drivers: ['1', '55', '11', '4', '16', '81', '63', '22', '18', '14', '44', '23', '77', '20', '31', '27', '10', '3', '24']\n",
      "core           INFO \tLoading data for Japanese Grand Prix - Qualifying [v3.5.3]\n",
      "req            INFO \tUsing cached data for session_info\n",
      "req            INFO \tUsing cached data for driver_info\n",
      "req            INFO \tUsing cached data for session_status_data\n",
      "req            INFO \tUsing cached data for track_status_data\n",
      "req            INFO \tUsing cached data for _extended_timing_data\n",
      "req            INFO \tUsing cached data for timing_app_data\n",
      "core           INFO \tProcessing timing data...\n"
     ]
    },
    {
     "name": "stdout",
     "output_type": "stream",
     "text": [
      "4 Suzuka\n"
     ]
    },
    {
     "name": "stderr",
     "output_type": "stream",
     "text": [
      "req            INFO \tUsing cached data for car_data\n",
      "req            INFO \tUsing cached data for position_data\n",
      "req            INFO \tUsing cached data for weather_data\n",
      "req            INFO \tUsing cached data for race_control_messages\n",
      "core           INFO \tFinished loading data for 20 drivers: ['1', '11', '4', '55', '14', '81', '44', '16', '63', '22', '3', '27', '77', '23', '31', '18', '10', '20', '2', '24']\n",
      "core           INFO \tLoading data for Chinese Grand Prix - Qualifying [v3.5.3]\n",
      "req            INFO \tUsing cached data for session_info\n",
      "req            INFO \tUsing cached data for driver_info\n",
      "req            INFO \tUsing cached data for session_status_data\n",
      "req            INFO \tUsing cached data for track_status_data\n",
      "req            INFO \tUsing cached data for _extended_timing_data\n",
      "req            INFO \tUsing cached data for timing_app_data\n",
      "core           INFO \tProcessing timing data...\n"
     ]
    },
    {
     "name": "stdout",
     "output_type": "stream",
     "text": [
      "5 Shanghai\n"
     ]
    },
    {
     "name": "stderr",
     "output_type": "stream",
     "text": [
      "req            INFO \tUsing cached data for car_data\n",
      "req            INFO \tUsing cached data for position_data\n",
      "req            INFO \tUsing cached data for weather_data\n",
      "req            INFO \tUsing cached data for race_control_messages\n",
      "core           INFO \tFinished loading data for 20 drivers: ['1', '11', '14', '4', '81', '16', '55', '63', '27', '77', '18', '3', '31', '23', '10', '24', '20', '44', '22', '2']\n",
      "core           INFO \tLoading data for Miami Grand Prix - Qualifying [v3.5.3]\n",
      "req            INFO \tUsing cached data for session_info\n",
      "req            INFO \tUsing cached data for driver_info\n",
      "req            INFO \tUsing cached data for session_status_data\n",
      "req            INFO \tUsing cached data for track_status_data\n",
      "req            INFO \tUsing cached data for _extended_timing_data\n",
      "req            INFO \tUsing cached data for timing_app_data\n",
      "core           INFO \tProcessing timing data...\n"
     ]
    },
    {
     "name": "stdout",
     "output_type": "stream",
     "text": [
      "6 Miami\n"
     ]
    },
    {
     "name": "stderr",
     "output_type": "stream",
     "text": [
      "req            INFO \tUsing cached data for car_data\n",
      "req            INFO \tUsing cached data for position_data\n",
      "req            INFO \tUsing cached data for weather_data\n",
      "req            INFO \tUsing cached data for race_control_messages\n",
      "core           INFO \tFinished loading data for 20 drivers: ['1', '16', '55', '11', '4', '81', '63', '44', '27', '22', '18', '10', '31', '23', '14', '77', '2', '3', '20', '24']\n",
      "core           INFO \tLoading data for Emilia Romagna Grand Prix - Qualifying [v3.5.3]\n",
      "req            INFO \tUsing cached data for session_info\n",
      "req            INFO \tUsing cached data for driver_info\n",
      "req            INFO \tUsing cached data for session_status_data\n",
      "req            INFO \tUsing cached data for track_status_data\n",
      "req            INFO \tUsing cached data for _extended_timing_data\n",
      "req            INFO \tUsing cached data for timing_app_data\n",
      "core           INFO \tProcessing timing data...\n"
     ]
    },
    {
     "name": "stdout",
     "output_type": "stream",
     "text": [
      "7 Imola\n"
     ]
    },
    {
     "name": "stderr",
     "output_type": "stream",
     "text": [
      "core        WARNING \tDriver  2: Lap timing integrity check failed for 1 lap(s)\n",
      "req            INFO \tUsing cached data for car_data\n",
      "req            INFO \tUsing cached data for position_data\n",
      "req            INFO \tUsing cached data for weather_data\n",
      "req            INFO \tUsing cached data for race_control_messages\n",
      "core           INFO \tFinished loading data for 20 drivers: ['1', '81', '4', '16', '55', '63', '22', '44', '3', '27', '11', '31', '18', '23', '10', '77', '24', '20', '14', '2']\n",
      "core           INFO \tLoading data for Monaco Grand Prix - Qualifying [v3.5.3]\n",
      "req            INFO \tUsing cached data for session_info\n",
      "req            INFO \tUsing cached data for driver_info\n",
      "req            INFO \tUsing cached data for session_status_data\n",
      "req            INFO \tUsing cached data for track_status_data\n",
      "req            INFO \tUsing cached data for _extended_timing_data\n",
      "req            INFO \tUsing cached data for timing_app_data\n",
      "core           INFO \tProcessing timing data...\n"
     ]
    },
    {
     "name": "stdout",
     "output_type": "stream",
     "text": [
      "8 Monaco\n"
     ]
    },
    {
     "name": "stderr",
     "output_type": "stream",
     "text": [
      "core        WARNING \tDriver  3: Lap timing integrity check failed for 1 lap(s)\n",
      "req            INFO \tUsing cached data for car_data\n",
      "req            INFO \tUsing cached data for position_data\n",
      "req            INFO \tUsing cached data for weather_data\n",
      "req            INFO \tUsing cached data for race_control_messages\n",
      "core           INFO \tFinished loading data for 20 drivers: ['16', '81', '55', '4', '63', '1', '44', '22', '23', '10', '31', '3', '18', '27', '14', '2', '20', '11', '77', '24']\n",
      "core           INFO \tLoading data for Canadian Grand Prix - Qualifying [v3.5.3]\n",
      "req            INFO \tUsing cached data for session_info\n",
      "req            INFO \tUsing cached data for driver_info\n",
      "req            INFO \tUsing cached data for session_status_data\n",
      "req            INFO \tUsing cached data for track_status_data\n",
      "req            INFO \tUsing cached data for _extended_timing_data\n",
      "req            INFO \tUsing cached data for timing_app_data\n",
      "core           INFO \tProcessing timing data...\n"
     ]
    },
    {
     "name": "stdout",
     "output_type": "stream",
     "text": [
      "9 Montréal\n"
     ]
    },
    {
     "name": "stderr",
     "output_type": "stream",
     "text": [
      "req            INFO \tUsing cached data for car_data\n",
      "req            INFO \tUsing cached data for position_data\n",
      "req            INFO \tUsing cached data for weather_data\n",
      "req            INFO \tUsing cached data for race_control_messages\n",
      "core           INFO \tFinished loading data for 20 drivers: ['63', '1', '4', '81', '3', '14', '44', '22', '18', '23', '16', '55', '2', '20', '10', '11', '77', '31', '27', '24']\n",
      "core           INFO \tLoading data for Spanish Grand Prix - Qualifying [v3.5.3]\n",
      "req            INFO \tUsing cached data for session_info\n",
      "req            INFO \tUsing cached data for driver_info\n",
      "req            INFO \tUsing cached data for session_status_data\n",
      "req            INFO \tUsing cached data for track_status_data\n",
      "req            INFO \tUsing cached data for _extended_timing_data\n",
      "req            INFO \tUsing cached data for timing_app_data\n",
      "core           INFO \tProcessing timing data...\n"
     ]
    },
    {
     "name": "stdout",
     "output_type": "stream",
     "text": [
      "10 Barcelona\n"
     ]
    },
    {
     "name": "stderr",
     "output_type": "stream",
     "text": [
      "req            INFO \tUsing cached data for car_data\n",
      "req            INFO \tUsing cached data for position_data\n",
      "req            INFO \tUsing cached data for weather_data\n",
      "req            INFO \tUsing cached data for race_control_messages\n",
      "core           INFO \tFinished loading data for 20 drivers: ['4', '1', '44', '63', '16', '55', '10', '11', '31', '81', '14', '77', '27', '18', '24', '20', '22', '3', '23', '2']\n",
      "core           INFO \tLoading data for Austrian Grand Prix - Qualifying [v3.5.3]\n",
      "req            INFO \tUsing cached data for session_info\n",
      "req            INFO \tUsing cached data for driver_info\n",
      "req            INFO \tUsing cached data for session_status_data\n",
      "req            INFO \tUsing cached data for track_status_data\n",
      "req            INFO \tUsing cached data for _extended_timing_data\n",
      "req            INFO \tUsing cached data for timing_app_data\n",
      "core           INFO \tProcessing timing data...\n"
     ]
    },
    {
     "name": "stdout",
     "output_type": "stream",
     "text": [
      "11 Spielberg\n"
     ]
    },
    {
     "name": "stderr",
     "output_type": "stream",
     "text": [
      "req            INFO \tUsing cached data for car_data\n",
      "req            INFO \tUsing cached data for position_data\n",
      "req            INFO \tUsing cached data for weather_data\n",
      "req            INFO \tUsing cached data for race_control_messages\n",
      "core           INFO \tFinished loading data for 20 drivers: ['1', '4', '63', '55', '44', '16', '81', '11', '27', '31', '3', '20', '10', '22', '14', '23', '18', '77', '2', '24']\n",
      "core           INFO \tLoading data for British Grand Prix - Qualifying [v3.5.3]\n",
      "req            INFO \tUsing cached data for session_info\n",
      "req            INFO \tUsing cached data for driver_info\n",
      "req            INFO \tUsing cached data for session_status_data\n",
      "req            INFO \tUsing cached data for track_status_data\n",
      "req            INFO \tUsing cached data for _extended_timing_data\n",
      "req            INFO \tUsing cached data for timing_app_data\n",
      "core           INFO \tProcessing timing data...\n"
     ]
    },
    {
     "name": "stdout",
     "output_type": "stream",
     "text": [
      "12 Silverstone\n"
     ]
    },
    {
     "name": "stderr",
     "output_type": "stream",
     "text": [
      "req            INFO \tUsing cached data for car_data\n",
      "req            INFO \tUsing cached data for position_data\n",
      "req            INFO \tUsing cached data for weather_data\n",
      "req            INFO \tUsing cached data for race_control_messages\n",
      "core           INFO \tFinished loading data for 20 drivers: ['63', '44', '4', '1', '81', '27', '55', '18', '23', '14', '16', '2', '22', '24', '3', '77', '20', '31', '11', '10']\n",
      "core           INFO \tLoading data for Hungarian Grand Prix - Qualifying [v3.5.3]\n",
      "req            INFO \tUsing cached data for session_info\n",
      "req            INFO \tUsing cached data for driver_info\n",
      "req            INFO \tUsing cached data for session_status_data\n",
      "req            INFO \tUsing cached data for track_status_data\n",
      "req            INFO \tUsing cached data for _extended_timing_data\n",
      "req            INFO \tUsing cached data for timing_app_data\n",
      "core           INFO \tProcessing timing data...\n"
     ]
    },
    {
     "name": "stdout",
     "output_type": "stream",
     "text": [
      "13 Budapest\n"
     ]
    },
    {
     "name": "stderr",
     "output_type": "stream",
     "text": [
      "req            INFO \tUsing cached data for car_data\n",
      "req            INFO \tUsing cached data for position_data\n",
      "req            INFO \tUsing cached data for weather_data\n",
      "req            INFO \tUsing cached data for race_control_messages\n",
      "core           INFO \tFinished loading data for 20 drivers: ['4', '81', '1', '55', '44', '16', '14', '18', '3', '22', '27', '77', '23', '2', '20', '11', '63', '24', '31', '10']\n",
      "core           INFO \tLoading data for Belgian Grand Prix - Qualifying [v3.5.3]\n",
      "req            INFO \tUsing cached data for session_info\n",
      "req            INFO \tUsing cached data for driver_info\n",
      "req            INFO \tUsing cached data for session_status_data\n",
      "req            INFO \tUsing cached data for track_status_data\n",
      "req            INFO \tUsing cached data for _extended_timing_data\n",
      "req            INFO \tUsing cached data for timing_app_data\n",
      "core           INFO \tProcessing timing data...\n"
     ]
    },
    {
     "name": "stdout",
     "output_type": "stream",
     "text": [
      "14 Spa-Francorchamps\n"
     ]
    },
    {
     "name": "stderr",
     "output_type": "stream",
     "text": [
      "req            INFO \tUsing cached data for car_data\n",
      "req            INFO \tUsing cached data for position_data\n",
      "req            INFO \tUsing cached data for weather_data\n",
      "req            INFO \tUsing cached data for race_control_messages\n",
      "core           INFO \tFinished loading data for 20 drivers: ['1', '16', '11', '44', '4', '81', '63', '55', '14', '31', '23', '10', '3', '77', '18', '27', '20', '22', '2', '24']\n",
      "core           INFO \tLoading data for Dutch Grand Prix - Qualifying [v3.5.3]\n",
      "req            INFO \tUsing cached data for session_info\n",
      "req            INFO \tUsing cached data for driver_info\n",
      "req            INFO \tUsing cached data for session_status_data\n",
      "req            INFO \tUsing cached data for track_status_data\n",
      "req            INFO \tUsing cached data for _extended_timing_data\n",
      "req            INFO \tUsing cached data for timing_app_data\n",
      "core           INFO \tProcessing timing data...\n"
     ]
    },
    {
     "name": "stdout",
     "output_type": "stream",
     "text": [
      "15 Zandvoort\n"
     ]
    },
    {
     "name": "stderr",
     "output_type": "stream",
     "text": [
      "core        WARNING \tNo lap data for driver 2\n",
      "core        WARNING \tFailed to perform lap accuracy check - all laps marked as inaccurate (driver 2)\n",
      "req            INFO \tUsing cached data for car_data\n",
      "req            INFO \tUsing cached data for position_data\n",
      "req            INFO \tUsing cached data for weather_data\n",
      "req            INFO \tUsing cached data for race_control_messages\n",
      "core           INFO \tFinished loading data for 20 drivers: ['4', '1', '81', '63', '11', '16', '14', '18', '10', '55', '23', '44', '22', '27', '20', '3', '31', '77', '24', '2']\n",
      "core           INFO \tLoading data for Italian Grand Prix - Qualifying [v3.5.3]\n",
      "req            INFO \tUsing cached data for session_info\n",
      "req            INFO \tUsing cached data for driver_info\n",
      "req            INFO \tUsing cached data for session_status_data\n",
      "req            INFO \tUsing cached data for track_status_data\n",
      "req            INFO \tUsing cached data for _extended_timing_data\n",
      "req            INFO \tUsing cached data for timing_app_data\n",
      "core           INFO \tProcessing timing data...\n"
     ]
    },
    {
     "name": "stdout",
     "output_type": "stream",
     "text": [
      "16 Monza\n"
     ]
    },
    {
     "name": "stderr",
     "output_type": "stream",
     "text": [
      "req            INFO \tUsing cached data for car_data\n",
      "req            INFO \tUsing cached data for position_data\n",
      "req            INFO \tUsing cached data for weather_data\n",
      "req            INFO \tUsing cached data for race_control_messages\n",
      "core           INFO \tFinished loading data for 20 drivers: ['4', '81', '63', '16', '55', '44', '1', '11', '23', '27', '14', '3', '20', '10', '31', '22', '18', '43', '77', '24']\n",
      "core           INFO \tLoading data for Azerbaijan Grand Prix - Qualifying [v3.5.3]\n",
      "req            INFO \tUsing cached data for session_info\n",
      "req            INFO \tUsing cached data for driver_info\n",
      "req            INFO \tUsing cached data for session_status_data\n",
      "req            INFO \tUsing cached data for track_status_data\n",
      "req            INFO \tUsing cached data for _extended_timing_data\n",
      "req            INFO \tUsing cached data for timing_app_data\n",
      "core           INFO \tProcessing timing data...\n"
     ]
    },
    {
     "name": "stdout",
     "output_type": "stream",
     "text": [
      "17 Baku\n"
     ]
    },
    {
     "name": "stderr",
     "output_type": "stream",
     "text": [
      "req            INFO \tUsing cached data for car_data\n",
      "req            INFO \tUsing cached data for position_data\n",
      "req            INFO \tUsing cached data for weather_data\n",
      "req            INFO \tUsing cached data for race_control_messages\n",
      "core           INFO \tFinished loading data for 20 drivers: ['16', '81', '55', '11', '63', '1', '44', '14', '43', '23', '50', '22', '27', '18', '3', '10', '4', '77', '24', '31']\n",
      "core           INFO \tLoading data for Singapore Grand Prix - Qualifying [v3.5.3]\n",
      "req            INFO \tUsing cached data for session_info\n",
      "req            INFO \tUsing cached data for driver_info\n",
      "req            INFO \tUsing cached data for session_status_data\n",
      "req            INFO \tUsing cached data for track_status_data\n",
      "req            INFO \tUsing cached data for _extended_timing_data\n",
      "req            INFO \tUsing cached data for timing_app_data\n",
      "core           INFO \tProcessing timing data...\n"
     ]
    },
    {
     "name": "stdout",
     "output_type": "stream",
     "text": [
      "18 Marina Bay\n"
     ]
    },
    {
     "name": "stderr",
     "output_type": "stream",
     "text": [
      "req            INFO \tUsing cached data for car_data\n",
      "req            INFO \tUsing cached data for position_data\n",
      "req            INFO \tUsing cached data for weather_data\n",
      "req            INFO \tUsing cached data for race_control_messages\n",
      "core           INFO \tFinished loading data for 20 drivers: ['4', '1', '44', '63', '81', '27', '14', '22', '16', '55', '23', '43', '11', '20', '31', '3', '18', '10', '77', '24']\n",
      "core           INFO \tLoading data for United States Grand Prix - Qualifying [v3.5.3]\n",
      "req            INFO \tUsing cached data for session_info\n",
      "req            INFO \tUsing cached data for driver_info\n",
      "req            INFO \tUsing cached data for session_status_data\n",
      "req            INFO \tUsing cached data for track_status_data\n",
      "req            INFO \tUsing cached data for _extended_timing_data\n",
      "req            INFO \tUsing cached data for timing_app_data\n",
      "core           INFO \tProcessing timing data...\n"
     ]
    },
    {
     "name": "stdout",
     "output_type": "stream",
     "text": [
      "19 Austin\n"
     ]
    },
    {
     "name": "stderr",
     "output_type": "stream",
     "text": [
      "req            INFO \tUsing cached data for car_data\n",
      "req            INFO \tUsing cached data for position_data\n",
      "req            INFO \tUsing cached data for weather_data\n",
      "req            INFO \tUsing cached data for race_control_messages\n",
      "core           INFO \tFinished loading data for 20 drivers: ['4', '1', '55', '16', '81', '63', '10', '14', '20', '11', '22', '27', '31', '18', '30', '23', '43', '77', '44', '24']\n",
      "core           INFO \tLoading data for Mexico City Grand Prix - Qualifying [v3.5.3]\n",
      "req            INFO \tUsing cached data for session_info\n",
      "req            INFO \tUsing cached data for driver_info\n",
      "req            INFO \tUsing cached data for session_status_data\n",
      "req            INFO \tUsing cached data for track_status_data\n",
      "req            INFO \tUsing cached data for _extended_timing_data\n",
      "req            INFO \tUsing cached data for timing_app_data\n",
      "core           INFO \tProcessing timing data...\n"
     ]
    },
    {
     "name": "stdout",
     "output_type": "stream",
     "text": [
      "20 Mexico City\n"
     ]
    },
    {
     "name": "stderr",
     "output_type": "stream",
     "text": [
      "req            INFO \tUsing cached data for car_data\n",
      "req            INFO \tUsing cached data for position_data\n",
      "req            INFO \tUsing cached data for weather_data\n",
      "req            INFO \tUsing cached data for race_control_messages\n",
      "core           INFO \tFinished loading data for 20 drivers: ['55', '1', '4', '16', '63', '44', '20', '10', '23', '27', '22', '30', '14', '18', '77', '43', '81', '11', '31', '24']\n",
      "core           INFO \tLoading data for São Paulo Grand Prix - Qualifying [v3.5.3]\n",
      "req            INFO \tUsing cached data for session_info\n",
      "req            INFO \tUsing cached data for driver_info\n",
      "req            INFO \tUsing cached data for session_status_data\n",
      "req            INFO \tUsing cached data for track_status_data\n",
      "req            INFO \tUsing cached data for _extended_timing_data\n",
      "req            INFO \tUsing cached data for timing_app_data\n",
      "core           INFO \tProcessing timing data...\n"
     ]
    },
    {
     "name": "stdout",
     "output_type": "stream",
     "text": [
      "21 São Paulo\n"
     ]
    },
    {
     "name": "stderr",
     "output_type": "stream",
     "text": [
      "req            INFO \tUsing cached data for car_data\n",
      "req            INFO \tUsing cached data for position_data\n",
      "req            INFO \tUsing cached data for weather_data\n",
      "req            INFO \tUsing cached data for race_control_messages\n",
      "core           INFO \tFinished loading data for 20 drivers: ['4', '63', '22', '31', '30', '16', '23', '81', '14', '18', '77', '1', '11', '55', '10', '44', '50', '43', '27', '24']\n",
      "core           INFO \tLoading data for Las Vegas Grand Prix - Qualifying [v3.5.3]\n",
      "req            INFO \tUsing cached data for session_info\n",
      "req            INFO \tUsing cached data for driver_info\n",
      "req            INFO \tUsing cached data for session_status_data\n",
      "req            INFO \tUsing cached data for track_status_data\n",
      "req            INFO \tUsing cached data for _extended_timing_data\n",
      "req            INFO \tUsing cached data for timing_app_data\n",
      "core           INFO \tProcessing timing data...\n"
     ]
    },
    {
     "name": "stdout",
     "output_type": "stream",
     "text": [
      "22 Las Vegas\n"
     ]
    },
    {
     "name": "stderr",
     "output_type": "stream",
     "text": [
      "req            INFO \tUsing cached data for car_data\n",
      "req            INFO \tUsing cached data for position_data\n",
      "req            INFO \tUsing cached data for weather_data\n",
      "req            INFO \tUsing cached data for race_control_messages\n",
      "core           INFO \tFinished loading data for 20 drivers: ['63', '55', '10', '16', '1', '4', '22', '81', '27', '44', '31', '20', '24', '43', '30', '11', '14', '23', '77', '18']\n",
      "core           INFO \tLoading data for Qatar Grand Prix - Qualifying [v3.5.3]\n",
      "req            INFO \tUsing cached data for session_info\n",
      "req            INFO \tUsing cached data for driver_info\n",
      "req            INFO \tUsing cached data for session_status_data\n",
      "req            INFO \tUsing cached data for track_status_data\n",
      "req            INFO \tUsing cached data for _extended_timing_data\n",
      "req            INFO \tUsing cached data for timing_app_data\n",
      "core           INFO \tProcessing timing data...\n"
     ]
    },
    {
     "name": "stdout",
     "output_type": "stream",
     "text": [
      "23 Lusail\n"
     ]
    },
    {
     "name": "stderr",
     "output_type": "stream",
     "text": [
      "req            INFO \tUsing cached data for car_data\n",
      "req            INFO \tUsing cached data for position_data\n",
      "req            INFO \tUsing cached data for weather_data\n",
      "req            INFO \tUsing cached data for race_control_messages\n",
      "core           INFO \tFinished loading data for 20 drivers: ['1', '63', '4', '81', '16', '44', '55', '14', '11', '20', '10', '24', '77', '22', '18', '23', '30', '27', '43', '31']\n",
      "core           INFO \tLoading data for Abu Dhabi Grand Prix - Qualifying [v3.5.3]\n",
      "req            INFO \tUsing cached data for session_info\n",
      "req            INFO \tUsing cached data for driver_info\n",
      "req            INFO \tUsing cached data for session_status_data\n",
      "req            INFO \tUsing cached data for track_status_data\n",
      "req            INFO \tUsing cached data for _extended_timing_data\n",
      "req            INFO \tUsing cached data for timing_app_data\n",
      "core           INFO \tProcessing timing data...\n"
     ]
    },
    {
     "name": "stdout",
     "output_type": "stream",
     "text": [
      "24 Yas Island\n"
     ]
    },
    {
     "name": "stderr",
     "output_type": "stream",
     "text": [
      "req            INFO \tUsing cached data for car_data\n",
      "req            INFO \tUsing cached data for position_data\n",
      "req            INFO \tUsing cached data for weather_data\n",
      "req            INFO \tUsing cached data for race_control_messages\n",
      "core           INFO \tFinished loading data for 20 drivers: ['4', '81', '55', '27', '1', '10', '63', '14', '77', '11', '22', '30', '18', '16', '20', '23', '24', '44', '43', '61']\n"
     ]
    }
   ],
   "source": [
    "season = {}\n",
    "\n",
    "for index, race in schedule.iterrows():\n",
    "  if race['EventFormat'] == 'testing':\n",
    "    continue\n",
    "  print(index, race['Location'])\n",
    "  season[race['Location']] = fastest_quali_lap(race['Location'], driver)\n"
   ]
  },
  {
   "cell_type": "code",
   "execution_count": 6,
   "id": "a1d6e7b5",
   "metadata": {},
   "outputs": [],
   "source": [
    "average_speeds = {race: speeds.mean() for race, speeds in season.items()}\n",
    "sorted_races = sorted(season.keys(), key=lambda race: average_speeds[race])\n",
    "sorted_df = pd.DataFrame({race: season[race] for race in sorted_races})"
   ]
  },
  {
   "cell_type": "code",
   "execution_count": 7,
   "id": "b7d1a4a8",
   "metadata": {},
   "outputs": [
    {
     "data": {
      "image/png": "[encoded data removed]",
      "text/plain": [
       "<Figure size 800x1000 with 1 Axes>"
      ]
     },
     "metadata": {},
     "output_type": "display_data"
    }
   ],
   "source": [
    "fig, ax1 = plt.subplots(1, 1, figsize=(8, 10))\n",
    "\n",
    "highlight = \"Silverstone\"\n",
    "palette = {\n",
    "  race: \"lightcoral\" if race == highlight else \"lightgray\"\n",
    "  for race in sorted_df.columns\n",
    "}\n",
    "sns.boxplot(\n",
    "  data=sorted_df,\n",
    "  orient=\"h\",\n",
    "  ax=ax1,\n",
    "  palette=palette\n",
    ")\n",
    "\n",
    "ax1.set_title('Speed distribution across fastest qualifying laps in 2024')\n",
    "ax1.set_xlim((0, 375))\n",
    "ax1.grid(color='lightblue', which='major', axis='x')\n",
    "ax1.set_xlabel('Speed')\n",
    "ax1.set_ylabel('Race')\n",
    "\n",
    "for i, race in enumerate(sorted_races):\n",
    "  mean_speed = average_speeds[race]\n",
    "  ax1.plot(mean_speed, i, 'bo', markersize=5)\n",
    "plt.show()"
   ]
  },
  {
   "cell_type": "markdown",
   "id": "821ea727",
   "metadata": {},
   "source": [
    "---\n",
    "\n",
    "This is the end of the notebook."
   ]
  }
 ],
 "metadata": {
  "kernelspec": {
   "display_name": ".venv",
   "language": "python",
   "name": "python3"
  },
  "language_info": {
   "codemirror_mode": {
    "name": "ipython",
    "version": 3
   },
   "file_extension": ".py",
   "mimetype": "text/x-python",
   "name": "python",
   "nbconvert_exporter": "python",
   "pygments_lexer": "ipython3",
   "version": "3.12.1"
  }
 },
 "nbformat": 4,
 "nbformat_minor": 5
}
